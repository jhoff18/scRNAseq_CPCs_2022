{
 "cells": [
  {
   "cell_type": "markdown",
   "id": "30a58b5f",
   "metadata": {},
   "source": [
    "# Raw data processing\n",
    "with scanpy"
   ]
  },
  {
   "cell_type": "code",
   "execution_count": 18,
   "id": "answering-mayor",
   "metadata": {},
   "outputs": [],
   "source": [
    "date = \"080922\"\n",
    "import os\n",
    "import re\n",
    "import numpy as np, pandas as pd, scanpy as sc, matplotlib.pyplot as plt, seaborn as sb\n",
    "# from gprofiler import GProfiler\n",
    "sc.settings.verbosity = 3             # verbosity: errors (0), warnings (1), info (2), hints (3)\n",
    "# sc.logging.print_header()\n",
    "# sc.settings.set_figure_params(dpi=80, facecolor='white')\n",
    "plt.rcParams['figure.figsize']=(8,8)"
   ]
  },
  {
   "cell_type": "markdown",
   "id": "f81bd25b",
   "metadata": {},
   "source": [
    "## Load and process data outputs from CellRanger"
   ]
  },
  {
   "cell_type": "code",
   "execution_count": 21,
   "id": "ec3e5b94",
   "metadata": {
    "scrolled": false
   },
   "outputs": [
    {
     "name": "stdout",
     "output_type": "stream",
     "text": [
      "reading ./data/sample5/filtered_feature_bc_matrix.h5\n",
      " (0:00:00)\n",
      "Running Scrublet\n",
      "filtered out 20091 genes that are detected in less than 3 cells\n",
      "normalizing counts per cell\n",
      "    finished (0:00:00)\n",
      "extracting highly variable genes\n",
      "    finished (0:00:00)\n",
      "--> added\n",
      "    'highly_variable', boolean vector (adata.var)\n",
      "    'means', float vector (adata.var)\n",
      "    'dispersions', float vector (adata.var)\n",
      "    'dispersions_norm', float vector (adata.var)\n",
      "normalizing counts per cell\n",
      "    finished (0:00:00)\n",
      "normalizing counts per cell\n",
      "    finished (0:00:00)\n"
     ]
    },
    {
     "name": "stderr",
     "output_type": "stream",
     "text": [
      "/Users/jhoff18/opt/anaconda3/lib/python3.8/site-packages/scanpy/preprocessing/_normalization.py:170: UserWarning: Received a view of an AnnData. Making a copy.\n",
      "  view_to_actual(adata)\n"
     ]
    },
    {
     "name": "stdout",
     "output_type": "stream",
     "text": [
      "Embedding transcriptomes using PCA...\n",
      "Automatically set threshold at doublet score = 0.41\n",
      "Detected doublet rate = 0.3%\n",
      "Estimated detectable doublet fraction = 0.7%\n",
      "Overall doublet rate:\n",
      "\tExpected   = 5.0%\n",
      "\tEstimated  = 43.5%\n",
      "    Scrublet finished (0:00:03)\n",
      "reading ./data/sample2/filtered_feature_bc_matrix.h5\n",
      " (0:00:01)\n"
     ]
    },
    {
     "name": "stderr",
     "output_type": "stream",
     "text": [
      "/Users/jhoff18/opt/anaconda3/lib/python3.8/site-packages/anndata/_core/anndata.py:1830: UserWarning: Variable names are not unique. To make them unique, call `.var_names_make_unique`.\n",
      "  utils.warn_names_duplicates(\"var\")\n"
     ]
    },
    {
     "name": "stdout",
     "output_type": "stream",
     "text": [
      "Running Scrublet\n",
      "filtered out 16320 genes that are detected in less than 3 cells\n",
      "normalizing counts per cell\n",
      "    finished (0:00:00)\n",
      "extracting highly variable genes\n",
      "    finished (0:00:01)\n",
      "--> added\n",
      "    'highly_variable', boolean vector (adata.var)\n",
      "    'means', float vector (adata.var)\n",
      "    'dispersions', float vector (adata.var)\n",
      "    'dispersions_norm', float vector (adata.var)\n"
     ]
    },
    {
     "name": "stderr",
     "output_type": "stream",
     "text": [
      "/Users/jhoff18/opt/anaconda3/lib/python3.8/site-packages/scanpy/preprocessing/_normalization.py:170: UserWarning: Received a view of an AnnData. Making a copy.\n",
      "  view_to_actual(adata)\n"
     ]
    },
    {
     "name": "stdout",
     "output_type": "stream",
     "text": [
      "normalizing counts per cell\n",
      "    finished (0:00:00)\n",
      "normalizing counts per cell\n",
      "    finished (0:00:00)\n",
      "Embedding transcriptomes using PCA...\n",
      "Automatically set threshold at doublet score = 0.61\n",
      "Detected doublet rate = 0.0%\n",
      "Estimated detectable doublet fraction = 0.6%\n",
      "Overall doublet rate:\n",
      "\tExpected   = 5.0%\n",
      "\tEstimated  = 1.6%\n",
      "    Scrublet finished (0:00:23)\n",
      "reading ./data/sample3/filtered_feature_bc_matrix.h5\n",
      " (0:00:01)\n"
     ]
    },
    {
     "name": "stderr",
     "output_type": "stream",
     "text": [
      "/Users/jhoff18/opt/anaconda3/lib/python3.8/site-packages/anndata/_core/anndata.py:1830: UserWarning: Variable names are not unique. To make them unique, call `.var_names_make_unique`.\n",
      "  utils.warn_names_duplicates(\"var\")\n"
     ]
    },
    {
     "name": "stdout",
     "output_type": "stream",
     "text": [
      "Running Scrublet\n",
      "filtered out 16542 genes that are detected in less than 3 cells\n",
      "normalizing counts per cell\n",
      "    finished (0:00:00)\n",
      "extracting highly variable genes\n",
      "    finished (0:00:00)\n",
      "--> added\n",
      "    'highly_variable', boolean vector (adata.var)\n",
      "    'means', float vector (adata.var)\n",
      "    'dispersions', float vector (adata.var)\n",
      "    'dispersions_norm', float vector (adata.var)\n"
     ]
    },
    {
     "name": "stderr",
     "output_type": "stream",
     "text": [
      "/Users/jhoff18/opt/anaconda3/lib/python3.8/site-packages/scanpy/preprocessing/_normalization.py:170: UserWarning: Received a view of an AnnData. Making a copy.\n",
      "  view_to_actual(adata)\n"
     ]
    },
    {
     "name": "stdout",
     "output_type": "stream",
     "text": [
      "normalizing counts per cell\n",
      "    finished (0:00:00)\n",
      "normalizing counts per cell\n",
      "    finished (0:00:00)\n",
      "Embedding transcriptomes using PCA...\n",
      "Automatically set threshold at doublet score = 0.59\n",
      "Detected doublet rate = 0.0%\n",
      "Estimated detectable doublet fraction = 0.1%\n",
      "Overall doublet rate:\n",
      "\tExpected   = 5.0%\n",
      "\tEstimated  = 14.3%\n",
      "    Scrublet finished (0:00:17)\n",
      "reading ./data/sample4/filtered_feature_bc_matrix.h5\n",
      " (0:00:00)\n"
     ]
    },
    {
     "name": "stderr",
     "output_type": "stream",
     "text": [
      "/Users/jhoff18/opt/anaconda3/lib/python3.8/site-packages/anndata/_core/anndata.py:1830: UserWarning: Variable names are not unique. To make them unique, call `.var_names_make_unique`.\n",
      "  utils.warn_names_duplicates(\"var\")\n"
     ]
    },
    {
     "name": "stdout",
     "output_type": "stream",
     "text": [
      "Running Scrublet\n",
      "filtered out 17461 genes that are detected in less than 3 cells\n",
      "normalizing counts per cell\n",
      "    finished (0:00:00)\n",
      "extracting highly variable genes\n",
      "    finished (0:00:00)\n",
      "--> added\n",
      "    'highly_variable', boolean vector (adata.var)\n",
      "    'means', float vector (adata.var)\n",
      "    'dispersions', float vector (adata.var)\n",
      "    'dispersions_norm', float vector (adata.var)\n"
     ]
    },
    {
     "name": "stderr",
     "output_type": "stream",
     "text": [
      "/Users/jhoff18/opt/anaconda3/lib/python3.8/site-packages/scanpy/preprocessing/_normalization.py:170: UserWarning: Received a view of an AnnData. Making a copy.\n",
      "  view_to_actual(adata)\n"
     ]
    },
    {
     "name": "stdout",
     "output_type": "stream",
     "text": [
      "normalizing counts per cell\n",
      "    finished (0:00:00)\n",
      "normalizing counts per cell\n",
      "    finished (0:00:00)\n",
      "Embedding transcriptomes using PCA...\n",
      "Automatically set threshold at doublet score = 0.49\n",
      "Detected doublet rate = 0.1%\n",
      "Estimated detectable doublet fraction = 0.9%\n",
      "Overall doublet rate:\n",
      "\tExpected   = 5.0%\n",
      "\tEstimated  = 9.7%\n",
      "    Scrublet finished (0:00:06)\n",
      "reading ./data/sample8/filtered_feature_bc_matrix.h5\n",
      " (0:00:01)\n"
     ]
    },
    {
     "name": "stderr",
     "output_type": "stream",
     "text": [
      "/Users/jhoff18/opt/anaconda3/lib/python3.8/site-packages/anndata/_core/anndata.py:1830: UserWarning: Variable names are not unique. To make them unique, call `.var_names_make_unique`.\n",
      "  utils.warn_names_duplicates(\"var\")\n"
     ]
    },
    {
     "name": "stdout",
     "output_type": "stream",
     "text": [
      "Running Scrublet\n",
      "filtered out 14198 genes that are detected in less than 3 cells\n",
      "normalizing counts per cell\n",
      "    finished (0:00:00)\n",
      "extracting highly variable genes\n",
      "    finished (0:00:00)\n",
      "--> added\n",
      "    'highly_variable', boolean vector (adata.var)\n",
      "    'means', float vector (adata.var)\n",
      "    'dispersions', float vector (adata.var)\n",
      "    'dispersions_norm', float vector (adata.var)\n"
     ]
    },
    {
     "name": "stderr",
     "output_type": "stream",
     "text": [
      "/Users/jhoff18/opt/anaconda3/lib/python3.8/site-packages/scanpy/preprocessing/_normalization.py:170: UserWarning: Received a view of an AnnData. Making a copy.\n",
      "  view_to_actual(adata)\n"
     ]
    },
    {
     "name": "stdout",
     "output_type": "stream",
     "text": [
      "normalizing counts per cell\n",
      "    finished (0:00:00)\n",
      "normalizing counts per cell\n",
      "    finished (0:00:00)\n",
      "Embedding transcriptomes using PCA...\n",
      "Automatically set threshold at doublet score = 0.60\n",
      "Detected doublet rate = 0.0%\n",
      "Estimated detectable doublet fraction = 0.1%\n",
      "Overall doublet rate:\n",
      "\tExpected   = 5.0%\n",
      "\tEstimated  = 0.0%\n",
      "    Scrublet finished (0:00:19)\n",
      "reading ./data/sample1/filtered_feature_bc_matrix.h5\n",
      " (0:00:01)\n"
     ]
    },
    {
     "name": "stderr",
     "output_type": "stream",
     "text": [
      "/Users/jhoff18/opt/anaconda3/lib/python3.8/site-packages/anndata/_core/anndata.py:1830: UserWarning: Variable names are not unique. To make them unique, call `.var_names_make_unique`.\n",
      "  utils.warn_names_duplicates(\"var\")\n"
     ]
    },
    {
     "name": "stdout",
     "output_type": "stream",
     "text": [
      "Running Scrublet\n",
      "filtered out 15986 genes that are detected in less than 3 cells\n",
      "normalizing counts per cell\n",
      "    finished (0:00:00)\n",
      "extracting highly variable genes\n",
      "    finished (0:00:01)\n",
      "--> added\n",
      "    'highly_variable', boolean vector (adata.var)\n",
      "    'means', float vector (adata.var)\n",
      "    'dispersions', float vector (adata.var)\n",
      "    'dispersions_norm', float vector (adata.var)\n"
     ]
    },
    {
     "name": "stderr",
     "output_type": "stream",
     "text": [
      "/Users/jhoff18/opt/anaconda3/lib/python3.8/site-packages/scanpy/preprocessing/_normalization.py:170: UserWarning: Received a view of an AnnData. Making a copy.\n",
      "  view_to_actual(adata)\n"
     ]
    },
    {
     "name": "stdout",
     "output_type": "stream",
     "text": [
      "normalizing counts per cell\n",
      "    finished (0:00:00)\n",
      "normalizing counts per cell\n",
      "    finished (0:00:00)\n",
      "Embedding transcriptomes using PCA...\n",
      "Automatically set threshold at doublet score = 0.67\n",
      "Detected doublet rate = 0.0%\n",
      "Estimated detectable doublet fraction = 0.0%\n",
      "Overall doublet rate:\n",
      "\tExpected   = 5.0%\n",
      "\tEstimated  = 0.0%\n",
      "    Scrublet finished (0:00:34)\n",
      "reading ./data/sample6/filtered_feature_bc_matrix.h5\n",
      " (0:00:01)\n"
     ]
    },
    {
     "name": "stderr",
     "output_type": "stream",
     "text": [
      "/Users/jhoff18/opt/anaconda3/lib/python3.8/site-packages/anndata/_core/anndata.py:1830: UserWarning: Variable names are not unique. To make them unique, call `.var_names_make_unique`.\n",
      "  utils.warn_names_duplicates(\"var\")\n"
     ]
    },
    {
     "name": "stdout",
     "output_type": "stream",
     "text": [
      "Running Scrublet\n",
      "filtered out 15502 genes that are detected in less than 3 cells\n",
      "normalizing counts per cell\n",
      "    finished (0:00:00)\n",
      "extracting highly variable genes\n",
      "    finished (0:00:01)\n",
      "--> added\n",
      "    'highly_variable', boolean vector (adata.var)\n",
      "    'means', float vector (adata.var)\n",
      "    'dispersions', float vector (adata.var)\n",
      "    'dispersions_norm', float vector (adata.var)\n"
     ]
    },
    {
     "name": "stderr",
     "output_type": "stream",
     "text": [
      "/Users/jhoff18/opt/anaconda3/lib/python3.8/site-packages/scanpy/preprocessing/_normalization.py:170: UserWarning: Received a view of an AnnData. Making a copy.\n",
      "  view_to_actual(adata)\n"
     ]
    },
    {
     "name": "stdout",
     "output_type": "stream",
     "text": [
      "normalizing counts per cell\n",
      "    finished (0:00:00)\n",
      "normalizing counts per cell\n",
      "    finished (0:00:00)\n",
      "Embedding transcriptomes using PCA...\n",
      "Automatically set threshold at doublet score = 0.61\n",
      "Detected doublet rate = 0.1%\n",
      "Estimated detectable doublet fraction = 0.6%\n",
      "Overall doublet rate:\n",
      "\tExpected   = 5.0%\n",
      "\tEstimated  = 10.1%\n",
      "    Scrublet finished (0:00:23)\n",
      "reading ./data/sample7/filtered_feature_bc_matrix.h5\n",
      " (0:00:00)\n",
      "Running Scrublet\n"
     ]
    },
    {
     "name": "stderr",
     "output_type": "stream",
     "text": [
      "/Users/jhoff18/opt/anaconda3/lib/python3.8/site-packages/anndata/_core/anndata.py:1830: UserWarning: Variable names are not unique. To make them unique, call `.var_names_make_unique`.\n",
      "  utils.warn_names_duplicates(\"var\")\n"
     ]
    },
    {
     "name": "stdout",
     "output_type": "stream",
     "text": [
      "filtered out 18712 genes that are detected in less than 3 cells\n",
      "normalizing counts per cell\n",
      "    finished (0:00:00)\n",
      "extracting highly variable genes\n",
      "    finished (0:00:00)\n",
      "--> added\n",
      "    'highly_variable', boolean vector (adata.var)\n",
      "    'means', float vector (adata.var)\n",
      "    'dispersions', float vector (adata.var)\n",
      "    'dispersions_norm', float vector (adata.var)\n",
      "normalizing counts per cell\n",
      "    finished (0:00:00)\n",
      "normalizing counts per cell\n"
     ]
    },
    {
     "name": "stderr",
     "output_type": "stream",
     "text": [
      "/Users/jhoff18/opt/anaconda3/lib/python3.8/site-packages/scanpy/preprocessing/_normalization.py:170: UserWarning: Received a view of an AnnData. Making a copy.\n",
      "  view_to_actual(adata)\n"
     ]
    },
    {
     "name": "stdout",
     "output_type": "stream",
     "text": [
      "    finished (0:00:00)\n",
      "Embedding transcriptomes using PCA...\n",
      "Automatically set threshold at doublet score = 0.49\n",
      "Detected doublet rate = 0.0%\n",
      "Estimated detectable doublet fraction = 0.4%\n",
      "Overall doublet rate:\n",
      "\tExpected   = 5.0%\n",
      "\tEstimated  = 8.3%\n",
      "    Scrublet finished (0:00:07)\n",
      "reading ./data/sample9/filtered_feature_bc_matrix.h5\n",
      " (0:00:00)\n",
      "Running Scrublet\n",
      "filtered out 27631 genes that are detected in less than 3 cells\n"
     ]
    },
    {
     "name": "stderr",
     "output_type": "stream",
     "text": [
      "/Users/jhoff18/opt/anaconda3/lib/python3.8/site-packages/anndata/_core/anndata.py:1830: UserWarning: Variable names are not unique. To make them unique, call `.var_names_make_unique`.\n",
      "  utils.warn_names_duplicates(\"var\")\n"
     ]
    },
    {
     "name": "stdout",
     "output_type": "stream",
     "text": [
      "normalizing counts per cell\n",
      "    finished (0:00:00)\n",
      "extracting highly variable genes\n",
      "    finished (0:00:00)\n",
      "--> added\n",
      "    'highly_variable', boolean vector (adata.var)\n",
      "    'means', float vector (adata.var)\n",
      "    'dispersions', float vector (adata.var)\n",
      "    'dispersions_norm', float vector (adata.var)\n",
      "normalizing counts per cell\n",
      "    finished (0:00:00)\n",
      "normalizing counts per cell\n",
      "    finished (0:00:00)\n"
     ]
    },
    {
     "name": "stderr",
     "output_type": "stream",
     "text": [
      "/Users/jhoff18/opt/anaconda3/lib/python3.8/site-packages/scanpy/preprocessing/_normalization.py:170: UserWarning: Received a view of an AnnData. Making a copy.\n",
      "  view_to_actual(adata)\n"
     ]
    },
    {
     "name": "stdout",
     "output_type": "stream",
     "text": [
      "Embedding transcriptomes using PCA...\n",
      "Automatically set threshold at doublet score = 0.61\n",
      "Detected doublet rate = 0.0%\n",
      "Estimated detectable doublet fraction = 0.5%\n",
      "Overall doublet rate:\n",
      "\tExpected   = 5.0%\n",
      "\tEstimated  = 8.5%\n",
      "    Scrublet finished (0:00:07)\n",
      "reading ./data/sample10/filtered_feature_bc_matrix.h5\n",
      " (0:00:01)\n"
     ]
    },
    {
     "name": "stderr",
     "output_type": "stream",
     "text": [
      "/Users/jhoff18/opt/anaconda3/lib/python3.8/site-packages/anndata/_core/anndata.py:1830: UserWarning: Variable names are not unique. To make them unique, call `.var_names_make_unique`.\n",
      "  utils.warn_names_duplicates(\"var\")\n"
     ]
    },
    {
     "name": "stdout",
     "output_type": "stream",
     "text": [
      "Running Scrublet\n",
      "filtered out 15670 genes that are detected in less than 3 cells\n",
      "normalizing counts per cell\n",
      "    finished (0:00:00)\n",
      "extracting highly variable genes\n",
      "    finished (0:00:00)\n",
      "--> added\n",
      "    'highly_variable', boolean vector (adata.var)\n",
      "    'means', float vector (adata.var)\n",
      "    'dispersions', float vector (adata.var)\n",
      "    'dispersions_norm', float vector (adata.var)\n"
     ]
    },
    {
     "name": "stderr",
     "output_type": "stream",
     "text": [
      "/Users/jhoff18/opt/anaconda3/lib/python3.8/site-packages/scanpy/preprocessing/_normalization.py:170: UserWarning: Received a view of an AnnData. Making a copy.\n",
      "  view_to_actual(adata)\n"
     ]
    },
    {
     "name": "stdout",
     "output_type": "stream",
     "text": [
      "normalizing counts per cell\n",
      "    finished (0:00:00)\n",
      "normalizing counts per cell\n",
      "    finished (0:00:00)\n",
      "Embedding transcriptomes using PCA...\n",
      "Automatically set threshold at doublet score = 0.62\n",
      "Detected doublet rate = 0.0%\n",
      "Estimated detectable doublet fraction = 0.0%\n",
      "Overall doublet rate:\n",
      "\tExpected   = 5.0%\n",
      "\tEstimated  = 0.0%\n",
      "    Scrublet finished (0:00:21)\n"
     ]
    },
    {
     "name": "stderr",
     "output_type": "stream",
     "text": [
      "/Users/jhoff18/opt/anaconda3/lib/python3.8/site-packages/anndata/_core/anndata.py:1785: FutureWarning: X.dtype being converted to np.float32 from float64. In the next version of anndata (0.9) conversion will not be automatic. Pass dtype explicitly to avoid this warning. Pass `AnnData(X, dtype=X.dtype, ...)` to get the future behavour.\n",
      "  [AnnData(sparse.csr_matrix(a.shape), obs=a.obs) for a in all_adatas],\n"
     ]
    },
    {
     "name": "stdout",
     "output_type": "stream",
     "text": [
      "computing PCA\n",
      "    with n_comps=50\n",
      "    finished (0:02:15)\n",
      "computing neighbors\n",
      "    using 'X_pca' with n_pcs = 50\n",
      "    finished: added to `.uns['neighbors']`\n",
      "    `.obsp['distances']`, distances for each pair of neighbors\n",
      "    `.obsp['connectivities']`, weighted adjacency matrix (0:00:15)\n",
      "computing UMAP\n",
      "    finished: added\n",
      "    'X_umap', UMAP coordinates (adata.obsm) (0:01:09)\n"
     ]
    }
   ],
   "source": [
    "filelist = [file for file in os.listdir('data') if file.startswith(\"sample\")]\n",
    "meta = {\"sample1\":{\"patient\":\"903\", \"type\":\"Neonate\", \"passage\":11, \"disease\": \"HLHS\", \"sex\": \"F\"},\n",
    "        \"sample2\": {\"patient\":\"925\", \"type\":\"Neonate\", \"passage\":5, \"disease\": \"TAPVR\", \"sex\": \"F\"},\n",
    "        \"sample3\": {\"patient\":\"930\", \"type\":\"Neonate\", \"passage\":5, \"disease\": \"TAPVR\", \"sex\": \"M\"},\n",
    "        \"sample4\": {\"patient\":\"926\", \"type\":\"Child\", \"passage\":6, \"disease\": \"VSD\", \"sex\": \"M\"},\n",
    "        \"sample5\": {\"patient\":\"1048\", \"type\":\"Child\", \"passage\":12, \"disease\": \"ASD\", \"sex\": \"F\"},\n",
    "        \"sample6\": {\"patient\":\"896\", \"type\":\"Child\", \"passage\":9, \"disease\": \"VSD\", \"sex\": \"F\"},\n",
    "        \"sample7\": {\"patient\":\"938\", \"type\":\"Child\", \"passage\":6, \"disease\": \"Subaortic Membrane Resection\", \"sex\": \"M\"},\n",
    "        \"sample8\": {\"patient\":\"1092\", \"type\":\"Child\", \"passage\":15, \"disease\": \"ASD\", \"sex\": \"F\"},\n",
    "        \"sample9\": {\"patient\":\"985\", \"type\":\"Neonate\", \"passage\":7, \"disease\": \"IAA\", \"sex\": \"M\"},\n",
    "        \"sample10\": {\"patient\":\"2016\", \"type\":\"Neonate\", \"passage\":12, \"disease\": \"ASD/VSD/Coarction\", \"sex\": \"F\"},\n",
    "        }\n",
    "\n",
    "datas = list()\n",
    "for sample in filelist:\n",
    "    datas.append(sc.read_10x_h5(f\"./data/{sample}/filtered_feature_bc_matrix.h5\"))\n",
    "    datas[-1].var_names_make_unique()\n",
    "\n",
    "    adata_pp = datas[-1].copy()\n",
    "    sc.external.pp.scrublet(adata_pp)\n",
    "    datas[-1].obs[\"predicted_doublet\"] = adata_pp.obs[\"predicted_doublet\"]\n",
    "    datas[-1].obs[\"doublet_score\"] = adata_pp.obs[\"doublet_score\"]\n",
    "\n",
    "    samp_meta = meta[sample]\n",
    "    for k in samp_meta.keys():\n",
    "        datas[-1].obs[k] = samp_meta[k]\n",
    "\n",
    "data = datas[0].concatenate(datas[1:], batch_categories = filelist)\n",
    "data.var_names_make_unique()\n",
    "del adata_pp, datas\n",
    "\n",
    "data = data[data.obs[\"predicted_doublet\"]!=True]\n",
    "\n",
    "sc.tl.pca(data)\n",
    "sc.pp.neighbors(data, n_neighbors=30, metric=\"cosine\")\n",
    "sc.tl.umap(data, min_dist=0.1)"
   ]
  },
  {
   "cell_type": "code",
   "execution_count": 26,
   "id": "786a9dca",
   "metadata": {},
   "outputs": [],
   "source": [
    "# Quality control metrics\n",
    "data.obs['n_counts'] = data.X.sum(1)\n",
    "data.obs['log_counts'] = np.log(data.obs['n_counts'])\n",
    "data.obs['n_genes'] = (data.X > 0).sum(1)\n",
    "\n",
    "mt_gene_mask = [gene.startswith('MT-') for gene in data.var_names]\n",
    "data.obs['mt_frac'] = data.X[:, mt_gene_mask].sum(1)/data.obs['n_counts'].to_numpy().reshape(data.shape[0],1)\n",
    "\n",
    "data.write(date+\"_raw_data.h5ad\")"
   ]
  },
  {
   "cell_type": "code",
   "execution_count": 27,
   "id": "120179e0",
   "metadata": {
    "scrolled": true
   },
   "outputs": [],
   "source": [
    "# Get ribo count\n",
    "ribo_gene_mask = data.var_names.map(lambda s: re.search(\"^RP[SL]\", s) != None).to_list()\n",
    "ribo_frac = np.divide(data.X[:, ribo_gene_mask].sum(axis=1).flatten(),data.obs['n_counts'].to_numpy().flatten())\n",
    "data.obs[\"ribo_frac\"] = ribo_frac.reshape(data.n_obs, 1)"
   ]
  },
  {
   "cell_type": "code",
   "execution_count": 28,
   "id": "715bdd92",
   "metadata": {},
   "outputs": [
    {
     "data": {
      "text/plain": [
       "AnnData object with n_obs × n_vars = 72778 × 36601\n",
       "    obs: 'predicted_doublet', 'doublet_score', 'patient', 'type', 'passage', 'disease', 'sex', 'batch', 'n_counts', 'log_counts', 'n_genes', 'mt_frac', 'ribo_frac'\n",
       "    var: 'gene_ids', 'feature_types', 'genome'\n",
       "    uns: 'pca', 'neighbors', 'umap'\n",
       "    obsm: 'X_pca', 'X_umap'\n",
       "    varm: 'PCs'\n",
       "    obsp: 'distances', 'connectivities'"
      ]
     },
     "execution_count": 28,
     "metadata": {},
     "output_type": "execute_result"
    }
   ],
   "source": [
    "# object: \n",
    "data"
   ]
  },
  {
   "cell_type": "markdown",
   "id": "86db50b3",
   "metadata": {},
   "source": [
    "#### Sample 9 (Patient 985) has low counts and small number of distinctly expressed genes"
   ]
  },
  {
   "cell_type": "code",
   "execution_count": 30,
   "id": "1572101b",
   "metadata": {},
   "outputs": [
    {
     "data": {
      "image/png": "[encoded data removed]",
      "text/plain": [
       "<Figure size 432x288 with 1 Axes>"
      ]
     },
     "metadata": {
      "needs_background": "light"
     },
     "output_type": "display_data"
    },
    {
     "data": {
      "image/png": "[encoded data removed]",
      "text/plain": [
       "<Figure size 432x288 with 1 Axes>"
      ]
     },
     "metadata": {
      "needs_background": "light"
     },
     "output_type": "display_data"
    }
   ],
   "source": [
    "data.obs.pivot(columns=\"batch\", values=\"n_counts\").plot.hist(bins=100)\n",
    "plt.xlim(0,60000)\n",
    "plt.show()\n",
    "data.obs.pivot(columns=\"batch\", values=\"n_genes\").plot.hist(bins=100)\n",
    "plt.show()"
   ]
  }
 ],
 "metadata": {
  "kernelspec": {
   "display_name": "base",
   "language": "python",
   "name": "python3"
  },
  "language_info": {
   "codemirror_mode": {
    "name": "ipython",
    "version": 3
   },
   "file_extension": ".py",
   "mimetype": "text/x-python",
   "name": "python",
   "nbconvert_exporter": "python",
   "pygments_lexer": "ipython3",
   "version": "3.8.8"
  }
 },
 "nbformat": 4,
 "nbformat_minor": 5
}
